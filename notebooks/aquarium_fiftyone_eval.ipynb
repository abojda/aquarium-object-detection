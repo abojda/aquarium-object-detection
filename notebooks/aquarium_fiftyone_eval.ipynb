{
 "cells": [
  {
   "cell_type": "markdown",
   "metadata": {
    "id": "ooHFdUjjAmfg"
   },
   "source": [
    "# Setup"
   ]
  },
  {
   "cell_type": "code",
   "execution_count": null,
   "metadata": {
    "id": "zTtVhUMxKlkP"
   },
   "outputs": [],
   "source": [
    "!pip install fiftyone -q"
   ]
  },
  {
   "cell_type": "markdown",
   "metadata": {
    "id": "dCY9egLYuL1R"
   },
   "source": [
    "# Download dataset\n",
    "\n",
    "**You can obtain your link (Roboflow key) on the download page [here](https://universe.roboflow.com/brad-dwyer/aquarium-combined/dataset/5/download) (requires sign-up)**"
   ]
  },
  {
   "cell_type": "code",
   "execution_count": null,
   "metadata": {
    "id": "MAuui0hobKdz"
   },
   "outputs": [],
   "source": [
    "# %env YOUR_ROBOFLOW_KEY="
   ]
  },
  {
   "cell_type": "code",
   "execution_count": null,
   "metadata": {
    "id": "7PrHTkhKbKd1"
   },
   "outputs": [],
   "source": [
    "import os\n",
    "\n",
    "if \"YOUR_ROBOFLOW_KEY\" not in os.environ:\n",
    "  raise RuntimeError(\"Set YOUR_ROBOFLOW_KEY environmental variable above!\")"
   ]
  },
  {
   "cell_type": "code",
   "execution_count": null,
   "metadata": {
    "id": "jllsE7fBwVbS"
   },
   "outputs": [],
   "source": [
    "!curl -L \"https://universe.roboflow.com/ds/L0q2Ht5q1V?key=$YOUR_ROBOFLOW_KEY\" > roboflow.zip;\n",
    "!unzip -o -q roboflow.zip -d data; rm roboflow.zip"
   ]
  },
  {
   "cell_type": "markdown",
   "metadata": {
    "id": "weW_qGyIy54h"
   },
   "source": [
    "**Insert path to dataset root directory**"
   ]
  },
  {
   "cell_type": "code",
   "execution_count": null,
   "metadata": {
    "id": "y3Nztpv-y6x8"
   },
   "outputs": [],
   "source": [
    "# NOTE - Update with your path if not running in Google Colab\n",
    "!sed -i \"1i path: /content/data\" data/data.yaml"
   ]
  },
  {
   "cell_type": "markdown",
   "metadata": {
    "id": "kAene3XZE0D1"
   },
   "source": [
    "**Fix mislabeled annotation**"
   ]
  },
  {
   "cell_type": "code",
   "execution_count": null,
   "metadata": {
    "id": "MaCNzvfRCjpa"
   },
   "outputs": [],
   "source": [
    "%env mislabeled_file=data/train/labels/IMG_8590_MOV-3_jpg.rf.e215fd21f9f69e42089d252c40cc2608.txt\n",
    "!awk '{print \"1\", $2, $3, $4, $5}' $mislabeled_file > tmp.txt && mv tmp.txt $mislabeled_file"
   ]
  },
  {
   "cell_type": "markdown",
   "metadata": {
    "id": "hYiYmlxrA8v-"
   },
   "source": [
    "# Download JSON with model predictions"
   ]
  },
  {
   "cell_type": "code",
   "execution_count": null,
   "metadata": {
    "id": "CbzrlLdlA8Vv"
   },
   "outputs": [],
   "source": [
    "!wget -q https://github.com/abojda/aquarium-object-detection/raw/main/results/yolov5/evaluation/test_s_obj0.1_300/predictions_fixed.json"
   ]
  },
  {
   "cell_type": "markdown",
   "metadata": {
    "id": "xNZ9tM0KApAA"
   },
   "source": [
    "# Run FiftyOne"
   ]
  },
  {
   "cell_type": "code",
   "execution_count": null,
   "metadata": {
    "id": "qjdxwzRLQsXB"
   },
   "outputs": [],
   "source": [
    "import fiftyone as fo\n",
    "\n",
    "dataset = fo.Dataset.from_dir(\n",
    "    name='Aquarium Combined',\n",
    "    dataset_type=fo.types.COCODetectionDataset,\n",
    "    data_path='data/test',\n",
    "    labels_path='data/test/_annotations.coco.json',\n",
    "    label_field='ground_truth',\n",
    ")\n",
    "\n",
    "pred_dataset = fo.Dataset.from_dir(\n",
    "    dataset_type=fo.types.COCODetectionDataset,\n",
    "    data_path='data/test',\n",
    "    labels_path='predictions_fixed.json',\n",
    "    label_field='model',\n",
    ")\n",
    "\n",
    "dataset.merge_samples(pred_dataset)\n",
    "\n",
    "session = fo.launch_app(dataset)"
   ]
  }
 ],
 "metadata": {
  "colab": {
   "provenance": []
  },
  "kernelspec": {
   "display_name": "Python 3",
   "language": "python",
   "name": "python3"
  },
  "language_info": {
   "codemirror_mode": {
    "name": "ipython",
    "version": 3
   },
   "file_extension": ".py",
   "mimetype": "text/x-python",
   "name": "python",
   "nbconvert_exporter": "python",
   "pygments_lexer": "ipython3",
   "version": "3.6.9"
  }
 },
 "nbformat": 4,
 "nbformat_minor": 4
}
