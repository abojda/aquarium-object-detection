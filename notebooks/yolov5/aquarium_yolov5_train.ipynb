{
 "cells": [
  {
   "cell_type": "markdown",
   "metadata": {
    "id": "5f3gU3IRsw9E"
   },
   "source": [
    "# Setup"
   ]
  },
  {
   "cell_type": "code",
   "execution_count": null,
   "metadata": {
    "id": "fpkzZhrAtYUx"
   },
   "outputs": [],
   "source": [
    "!pip install yolov5 -q\n",
    "\n",
    "from yolov5 import train\n",
    "\n",
    "import locale\n",
    "locale.getpreferredencoding = lambda: \"UTF-8\""
   ]
  },
  {
   "cell_type": "markdown",
   "metadata": {
    "id": "dCY9egLYuL1R"
   },
   "source": [
    "# Download dataset\n",
    "**You can obtain your link (Roboflow key) on the download page [here](https://universe.roboflow.com/brad-dwyer/aquarium-combined/dataset/5/download) (requires sign-up)**"
   ]
  },
  {
   "cell_type": "code",
   "execution_count": null,
   "metadata": {
    "id": "MAuui0hobKdz"
   },
   "outputs": [],
   "source": [
    "# %env YOUR_ROBOFLOW_KEY="
   ]
  },
  {
   "cell_type": "code",
   "execution_count": null,
   "metadata": {
    "id": "7PrHTkhKbKd1"
   },
   "outputs": [],
   "source": [
    "import os\n",
    "\n",
    "if \"YOUR_ROBOFLOW_KEY\" not in os.environ:\n",
    "  raise RuntimeError(\"Set YOUR_ROBOFLOW_KEY environmental variable above!\")"
   ]
  },
  {
   "cell_type": "code",
   "execution_count": null,
   "metadata": {
    "id": "jllsE7fBwVbS"
   },
   "outputs": [],
   "source": [
    "!curl -L \"https://universe.roboflow.com/ds/aXGylruXWt?key=$YOUR_ROBOFLOW_KEY\" > roboflow.zip;\n",
    "!unzip -o -q roboflow.zip -d data; rm roboflow.zip;"
   ]
  },
  {
   "cell_type": "markdown",
   "metadata": {
    "id": "weW_qGyIy54h"
   },
   "source": [
    "**Insert path to dataset root directory**"
   ]
  },
  {
   "cell_type": "code",
   "execution_count": null,
   "metadata": {
    "id": "y3Nztpv-y6x8"
   },
   "outputs": [],
   "source": [
    "# NOTE - Update with your path if not running in Google Colab\n",
    "!sed -i \"1i path: /content/data\" data/data.yaml"
   ]
  },
  {
   "cell_type": "markdown",
   "metadata": {
    "id": "kAene3XZE0D1"
   },
   "source": [
    "**Fix mislabeled annotation**"
   ]
  },
  {
   "cell_type": "code",
   "execution_count": null,
   "metadata": {
    "id": "MaCNzvfRCjpa"
   },
   "outputs": [],
   "source": [
    "%env mislabeled_file=data/train/labels/IMG_8590_MOV-3_jpg.rf.e215fd21f9f69e42089d252c40cc2608.txt\n",
    "!awk '{print \"1\", $2, $3, $4, $5}' $mislabeled_file > tmp.txt && mv tmp.txt $mislabeled_file"
   ]
  },
  {
   "cell_type": "markdown",
   "metadata": {
    "id": "mSe3XQleyk47"
   },
   "source": [
    "# Training"
   ]
  },
  {
   "cell_type": "code",
   "execution_count": null,
   "metadata": {
    "id": "r7kPQlhV8fOh"
   },
   "outputs": [],
   "source": [
    "%load_ext tensorboard\n",
    "%tensorboard --logdir runs/train"
   ]
  },
  {
   "cell_type": "markdown",
   "metadata": {
    "id": "jQuZMA4NE1on"
   },
   "source": [
    "## Define hyperparameters"
   ]
  },
  {
   "cell_type": "code",
   "execution_count": null,
   "metadata": {
    "colab": {
     "base_uri": "https://localhost:8080/"
    },
    "id": "4hl7fqMkDPel",
    "outputId": "e1919247-c7b6-4465-aca2-b92f4c3a572a"
   },
   "outputs": [
    {
     "name": "stderr",
     "output_type": "stream",
     "text": [
      "100%|██████████| 1.65k/1.65k [00:00<00:00, 1.92MB/s]\n"
     ]
    }
   ],
   "source": [
    "import yaml\n",
    "import torch\n",
    "\n",
    "# Default hyperparameters config\n",
    "hyp_file = 'hyp.scratch-low.yaml'\n",
    "hyp_url = f'https://raw.githubusercontent.com/ultralytics/yolov5/master/data/hyps/{hyp_file}'\n",
    "\n",
    "# Get default hyperparameters config\n",
    "torch.hub.download_url_to_file(hyp_url, hyp_file)\n",
    "\n",
    "# Load YAML into dict\n",
    "with open(hyp_file, errors='ignore') as f:\n",
    "    hyps = yaml.safe_load(f)\n",
    "\n",
    "# MODIFY HYPERPARAMETERS\n",
    "# hyps['warmup_bias_lr'] = 0.0\n",
    "# hyps['lr0'] = 0.001\n",
    "# hyps['obj'] = 0.1\n",
    "\n",
    "# Dump dict into YAML file\n",
    "with open(hyp_file, 'w') as f:\n",
    "  yaml.dump(hyps, f, sort_keys=False)"
   ]
  },
  {
   "cell_type": "markdown",
   "metadata": {
    "id": "Nvg5VWq5E4sc"
   },
   "source": [
    "## Choose weights"
   ]
  },
  {
   "cell_type": "code",
   "execution_count": null,
   "metadata": {
    "id": "KDzWHtArufev"
   },
   "outputs": [],
   "source": [
    "# From YOLOv5 repo\n",
    "weights='yolov5s.pt'\n",
    "\n",
    "# Local\n",
    "# weights='last.pt'\n",
    "# weights='best.pt'\n",
    "\n",
    "# Continue training - use weights already uploaded to HF to improve upon them\n",
    "# weights = 'akbojda/yolov5s-aquarium'"
   ]
  },
  {
   "cell_type": "markdown",
   "metadata": {
    "id": "cP6wRxk3E7xn"
   },
   "source": [
    "## Train"
   ]
  },
  {
   "cell_type": "code",
   "execution_count": null,
   "metadata": {
    "id": "InwvBj9p0PI4"
   },
   "outputs": [],
   "source": [
    "train.run(imgsz=640, epochs=300, data='data/data.yaml', weights=weights, logger='TensorBoard', hyp=hyp_file, cache='ram');"
   ]
  },
  {
   "cell_type": "markdown",
   "metadata": {
    "id": "_z37-mlxQH3-"
   },
   "source": [
    "**Download results (for Colab experiments)**"
   ]
  },
  {
   "cell_type": "code",
   "execution_count": null,
   "metadata": {
    "id": "Rz_IQBUMJsu3"
   },
   "outputs": [],
   "source": [
    "# from google.colab import files\n",
    "\n",
    "# !zip -r results.zip /content/runs/train\n",
    "# files.download('results.zip')"
   ]
  }
 ],
 "metadata": {
  "accelerator": "GPU",
  "colab": {
   "gpuType": "V100",
   "provenance": []
  },
  "kernelspec": {
   "display_name": "Python 3",
   "language": "python",
   "name": "python3"
  },
  "language_info": {
   "codemirror_mode": {
    "name": "ipython",
    "version": 3
   },
   "file_extension": ".py",
   "mimetype": "text/x-python",
   "name": "python",
   "nbconvert_exporter": "python",
   "pygments_lexer": "ipython3",
   "version": "3.6.9"
  }
 },
 "nbformat": 4,
 "nbformat_minor": 4
}
