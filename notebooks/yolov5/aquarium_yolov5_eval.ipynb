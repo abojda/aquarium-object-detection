{
 "cells": [
  {
   "cell_type": "markdown",
   "metadata": {
    "id": "5f3gU3IRsw9E"
   },
   "source": [
    "# Setup"
   ]
  },
  {
   "cell_type": "code",
   "execution_count": null,
   "metadata": {
    "id": "fpkzZhrAtYUx"
   },
   "outputs": [],
   "source": [
    "!pip install yolov5 -q\n",
    "\n",
    "from yolov5 import val\n",
    "\n",
    "import locale\n",
    "locale.getpreferredencoding = lambda: \"UTF-8\""
   ]
  },
  {
   "cell_type": "markdown",
   "metadata": {
    "id": "dCY9egLYuL1R"
   },
   "source": [
    "# Download dataset\n",
    "\n",
    "**You can obtain your link (Roboflow key) on the download page [here](https://universe.roboflow.com/brad-dwyer/aquarium-combined/dataset/5/download) (requires sign-up)**"
   ]
  },
  {
   "cell_type": "code",
   "execution_count": null,
   "metadata": {
    "id": "MAuui0hobKdz"
   },
   "outputs": [],
   "source": [
    "# %env YOUR_ROBOFLOW_KEY="
   ]
  },
  {
   "cell_type": "code",
   "execution_count": null,
   "metadata": {
    "id": "7PrHTkhKbKd1"
   },
   "outputs": [],
   "source": [
    "import os\n",
    "\n",
    "if \"YOUR_ROBOFLOW_KEY\" not in os.environ:\n",
    "  raise RuntimeError(\"Set YOUR_ROBOFLOW_KEY environmental variable above!\")"
   ]
  },
  {
   "cell_type": "code",
   "execution_count": null,
   "metadata": {
    "id": "jllsE7fBwVbS"
   },
   "outputs": [],
   "source": [
    "!curl -L \"https://universe.roboflow.com/ds/aXGylruXWt?key=$YOUR_ROBOFLOW_KEY\" > roboflow.zip;\n",
    "!unzip -o -q roboflow.zip -d data; rm roboflow.zip"
   ]
  },
  {
   "cell_type": "markdown",
   "metadata": {
    "id": "HehCbll4gQAu"
   },
   "source": [
    "**Insert path to dataset root directory**"
   ]
  },
  {
   "cell_type": "code",
   "execution_count": null,
   "metadata": {
    "id": "0RhtRlPJgQAv"
   },
   "outputs": [],
   "source": [
    "# NOTE - Update with your path if not running in Google Colab\n",
    "!sed -i \"1i path: /content/data\" data/data.yaml"
   ]
  },
  {
   "cell_type": "markdown",
   "metadata": {
    "id": "HQSFDuqdgQAw"
   },
   "source": [
    "**Fix mislabeled annotation**"
   ]
  },
  {
   "cell_type": "code",
   "execution_count": null,
   "metadata": {
    "id": "pdCGvH6kgQAx"
   },
   "outputs": [],
   "source": [
    "%env mislabeled_file=data/train/labels/IMG_8590_MOV-3_jpg.rf.e215fd21f9f69e42089d252c40cc2608.txt\n",
    "!awk '{print \"1\", $2, $3, $4, $5}' $mislabeled_file > tmp.txt && mv tmp.txt $mislabeled_file"
   ]
  },
  {
   "cell_type": "markdown",
   "metadata": {
    "id": "X6C7FEiB1JuV"
   },
   "source": [
    "# Select weights (local or from HuggingFace Hub)"
   ]
  },
  {
   "cell_type": "code",
   "execution_count": null,
   "metadata": {
    "id": "MwPKQ-9z4RjM"
   },
   "outputs": [],
   "source": [
    "# HuggingFace Hub\n",
    "# weights = 'akbojda/yolov5s-aquarium'\n",
    "\n",
    "# Local\n",
    "weights = 'best.pt'"
   ]
  },
  {
   "cell_type": "markdown",
   "metadata": {
    "id": "DlHkc43Qww_-"
   },
   "source": [
    "# Metrics on validation dataset"
   ]
  },
  {
   "cell_type": "code",
   "execution_count": null,
   "metadata": {
    "id": "wkvdaw30wx-O"
   },
   "outputs": [],
   "source": [
    "val.run(imgsz=640, data='data/data.yaml', weights=weights, task='val');"
   ]
  },
  {
   "cell_type": "markdown",
   "metadata": {
    "id": "wy9QoU0X00Uv"
   },
   "source": [
    "# Metrics on test dataset"
   ]
  },
  {
   "cell_type": "code",
   "execution_count": null,
   "metadata": {
    "id": "GPcCov5A00U1"
   },
   "outputs": [],
   "source": [
    "val.run(imgsz=640, data='data/data.yaml', weights=weights, task='test', save_json=True);"
   ]
  },
  {
   "cell_type": "markdown",
   "metadata": {
    "id": "rprXtAeNgA9a"
   },
   "source": [
    "**Download results (for Colab experiments)**"
   ]
  },
  {
   "cell_type": "code",
   "execution_count": null,
   "metadata": {
    "id": "mtm6h1E7hU-0"
   },
   "outputs": [],
   "source": [
    "# from google.colab import files\n",
    "\n",
    "# !zip -r validation.zip /content/runs/val\n",
    "# files.download('validation.zip')"
   ]
  }
 ],
 "metadata": {
  "accelerator": "GPU",
  "colab": {
   "provenance": []
  },
  "kernelspec": {
   "display_name": "Python 3",
   "language": "python",
   "name": "python3"
  },
  "language_info": {
   "codemirror_mode": {
    "name": "ipython",
    "version": 3
   },
   "file_extension": ".py",
   "mimetype": "text/x-python",
   "name": "python",
   "nbconvert_exporter": "python",
   "pygments_lexer": "ipython3",
   "version": "3.6.9"
  }
 },
 "nbformat": 4,
 "nbformat_minor": 4
}
